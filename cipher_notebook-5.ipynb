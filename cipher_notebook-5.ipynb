{
 "cells": [
  {
   "cell_type": "code",
   "execution_count": 1,
   "metadata": {},
   "outputs": [
    {
     "name": "stderr",
     "output_type": "stream",
     "text": [
      "[nltk_data] Downloading package stopwords to\n",
      "[nltk_data]     C:\\Users\\hamil\\AppData\\Roaming\\nltk_data...\n",
      "[nltk_data]   Package stopwords is already up-to-date!\n",
      "[nltk_data] Downloading package brown to\n",
      "[nltk_data]     C:\\Users\\hamil\\AppData\\Roaming\\nltk_data...\n",
      "[nltk_data]   Package brown is already up-to-date!\n"
     ]
    },
    {
     "data": {
      "text/plain": [
       "True"
      ]
     },
     "execution_count": 1,
     "metadata": {},
     "output_type": "execute_result"
    }
   ],
   "source": [
    "import os\n",
    "import numpy as np\n",
    "import time\n",
    "import tensorflow as tf\n",
    "from tensorflow import keras\n",
    "import nltk\n",
    "from collections import defaultdict, deque\n",
    "from nltk.stem import PorterStemmer\n",
    "from nltk.corpus import stopwords\n",
    "from nltk.corpus import brown #brown dataset required\n",
    "import regex\n",
    "import matplotlib.pyplot as plt\n",
    "import copy \n",
    "from nltk import bigrams, trigrams\n",
    "import sqlite3\n",
    "#np.random.seed(1234)\n",
    "#tf.random.set_seed(1234)\n",
    "nltk.download('stopwords')\n",
    "nltk.download('brown')"
   ]
  },
  {
   "cell_type": "code",
   "execution_count": 2,
   "metadata": {},
   "outputs": [
    {
     "name": "stdout",
     "output_type": "stream",
     "text": [
      "['/device:CPU:0', '/device:GPU:0']\n"
     ]
    }
   ],
   "source": [
    "from tensorflow.python.client import device_lib\n",
    "\n",
    "def get_available_devices():\n",
    "    local_device_protos = device_lib.list_local_devices()\n",
    "    return [x.name for x in local_device_protos]\n",
    "\n",
    "print(get_available_devices())"
   ]
  },
  {
   "cell_type": "markdown",
   "metadata": {},
   "source": [
    "Get Sentences from Corpus"
   ]
  },
  {
   "cell_type": "code",
   "execution_count": 2,
   "metadata": {},
   "outputs": [],
   "source": [
    "def get_sentences_with_fids(corpus=brown,start=32000,end=42000): #WORKS\n",
    "  fid_sentences = {}\n",
    "  count = 0\n",
    "  sentences = set(tuple(row) for row in corpus.sents()[start:end])\n",
    "  sentences_list = [row for row in corpus.sents()[start:end]]\n",
    "  fidCounter = -1\n",
    "  found = -1\n",
    "  for fid in corpus.fileids():\n",
    "    fidCounter+=1\n",
    "    sent = [row for row in corpus.sents(fileids=fid)]\n",
    "    #genre_sentences[cat] = defaultdict(lambda:0)\n",
    "    sent_tuple = set(tuple(row) for row in sent)\n",
    "    \n",
    "    \n",
    "    if(sent_tuple.issubset(sentences)):\n",
    "      if(count==0 and sent!=sentences_list[:len(sent)]):#The first FID will more than likely not start at our start length\n",
    "        for i in range(0,end-start-len(sent)):\n",
    "          for j in range(0,len(sent)):\n",
    "            if(sent[j]!=sentences_list[j+i]):\n",
    "              break\n",
    "            if(j==len(sent)-1):\n",
    "              found=i\n",
    "          if(found>-1):\n",
    "            found = i\n",
    "            break\n",
    "        if(found<0):\n",
    "          print(\"ERROR in get_sentences_with_fid1, set not found\")\n",
    "          return None \n",
    "        count+=found    \n",
    "      fid_sentences[fid] = sent\n",
    "      count+=len(sent)\n",
    "  if(found>-1 or count<(end-start-1)):\n",
    "    first_fid = set(tuple(row) for row in sentences_list[:found])\n",
    "    last_fid = set(tuple(row) for row in sentences_list[count:])\n",
    "    for fid in corpus.fileids():\n",
    "      if(found==-1 and count>(end-start-1)):\n",
    "        break\n",
    "      if fid in fid_sentences.keys():\n",
    "        continue\n",
    "      sent = corpus.sents(fileids=fid)\n",
    "      sent_tuple = set(tuple(row) for row in sent)\n",
    "      if(first_fid.issubset(sent_tuple)):\n",
    "        fid_sentences[fid] = sentences_list[:found]\n",
    "        found = -1\n",
    "      if(last_fid.issubset(sent_tuple)):\n",
    "        fid_sentences[fid] = sentences_list[count:]\n",
    "        count+=len(sentences_list[count:])\n",
    "\n",
    "  return fid_sentences"
   ]
  },
  {
   "cell_type": "markdown",
   "metadata": {},
   "source": [
    "Generate Cipher Code and other Cipher related methods"
   ]
  },
  {
   "cell_type": "code",
   "execution_count": 3,
   "metadata": {},
   "outputs": [],
   "source": [
    "def generate_cipher(seed:int=1234):\n",
    "  rng = np.random.default_rng(seed)\n",
    "  encode_key = {}\n",
    "  letters = 'abcdefghijklmnopqrstuvwxyz'\n",
    "  letters_to_match = 'abcdefghijklmnopqrstuvwxyz'\n",
    "  for c in letters:\n",
    "    char = rng.integers(0,len(letters_to_match))\n",
    "    encode_key[c] = letters_to_match[char:char+1]\n",
    "    letters_to_match = letters_to_match.replace(letters_to_match[char:char+1],\"\")\n",
    "  decode_key = {}\n",
    "  for c in encode_key:\n",
    "    decode_key[encode_key[c]]=c\n",
    "  return encode_key,decode_key\n",
    "\n",
    "def substitution_cipher(plaintext:str,seed:int=1234):\n",
    "  encode_key,decode_key = generate_cipher(seed)\n",
    "  cipher = ''\n",
    "  for c in plaintext.lower():\n",
    "    if(c in encode_key.keys()):\n",
    "      cipher+=encode_key[c]\n",
    "    else:\n",
    "      cipher+=c\n",
    "  return cipher,decode_key\n",
    "\n",
    "def decode_cipher(ciphertext,decode_key):\n",
    "  plaintext = ''\n",
    "  for c in ciphertext:\n",
    "    if(c in decode_key.keys()):\n",
    "      plaintext+=decode_key[c]\n",
    "    else:\n",
    "      plaintext+=c\n",
    "  return plaintext\n",
    "\n",
    "def letter_frequency(ciphertext):\n",
    "  dist = defaultdict(lambda:0)\n",
    "  for letter in ciphertext:\n",
    "    if letter.isalpha():\n",
    "      dist[letter]+=1\n",
    "  freq = {k: v for k, v in sorted(dist.items(), key=lambda item: item[1])}\n",
    "  return freq"
   ]
  },
  {
   "cell_type": "markdown",
   "metadata": {},
   "source": [
    "<B>Preprocess Methods"
   ]
  },
  {
   "cell_type": "code",
   "execution_count": 4,
   "metadata": {},
   "outputs": [],
   "source": [
    "def remove_punct(word:str):\n",
    "  punct = \"\\\":,.!?()%;\\\\1234567890*&[{]}/#^$`~_=+\"\n",
    "  for char in punct:\n",
    "    word = word.replace(char,\"\")\n",
    "  return word\n",
    "def process_sentence(sentence,lower:bool=True):\n",
    "  #stemmer = PorterStemmer()\n",
    "  new_sentence = []\n",
    "  #stem_sentence = [stemmer.stem(word) for word in sentence] #Stem words\n",
    "  #for word in sentence:\n",
    "  for word in sentence:\n",
    "    word_span = regex.match(\"([[:punct:]])*\",word).span() #remove punctuation\n",
    "    numeral_or_character = ((word.lower()==word.upper()))\n",
    "    if((word_span[0] == 0 and word_span[1] == len(word)) or numeral_or_character): #If the 'word' is punctuation, dont add it to processed_sentences\n",
    "      continue\n",
    "    new_word=remove_punct(word)\n",
    "    if(new_word==\"\"):\n",
    "      break\n",
    "    if(lower):\n",
    "      new_sentence.append(new_word.lower())\n",
    "    else:\n",
    "      new_sentence.append(new_word)\n",
    "  #new_sentence.append(\"<E>\")\n",
    "  return new_sentence\n",
    "\n",
    "def preprocess_data(fid):#INPUT IS DICTIONARY[FID]:Document which is made up of [[Sentence]]\n",
    "  # TODO: Add preprocessing steps (tokenization, normalization, etc.)\n",
    "  processed_sentences = []\n",
    "  vocab = set()#defaultdict(lambda:{\"<S>\",\"<E>\"})\n",
    "  vocab.add(\"<S>\")\n",
    "  vocab.add(\"<E>\")\n",
    "  for docs in fid:\n",
    "    for sentence in fid[docs]:\n",
    "      new_sentence = process_sentence(sentence)\n",
    "      if(len(new_sentence)==0):\n",
    "        continue\n",
    "      for word in new_sentence:\n",
    "        vocab.add(word.lower())\n",
    "      processed_sentences.append(new_sentence)\n",
    "  return processed_sentences, vocab"
   ]
  },
  {
   "cell_type": "markdown",
   "metadata": {},
   "source": [
    "<B>Get Processed Sentences and Shuffle them"
   ]
  },
  {
   "cell_type": "code",
   "execution_count": 5,
   "metadata": {},
   "outputs": [],
   "source": [
    "fid = get_sentences_with_fids(start=0,end=-1)"
   ]
  },
  {
   "cell_type": "code",
   "execution_count": 6,
   "metadata": {},
   "outputs": [],
   "source": [
    "processed_sentences, vocab = preprocess_data(fid)\n",
    "np.random.shuffle(processed_sentences) #randomizes sentences\n",
    "# training = processed_sentences[:int(len(processed_sentences)*.8)]\n",
    "# validation = processed_sentences[int(len(processed_sentences)*.8):int(len(processed_sentences)*.9)]\n",
    "# testing = processed_sentences[int(len(processed_sentences)*.9):]"
   ]
  },
  {
   "cell_type": "markdown",
   "metadata": {},
   "source": [
    "<B>Process sentences into ciphers and partially deciphered ciphers for RNN to decode"
   ]
  },
  {
   "cell_type": "code",
   "execution_count": 13,
   "metadata": {},
   "outputs": [],
   "source": [
    "MAX_LEN = 250\n",
    "MIN_LEN = 10\n",
    "def generate_cipher(seed:int=1234):\n",
    "  rng = np.random.default_rng(seed)\n",
    "  encode_key = {}\n",
    "  letters = 'abcdefghijklmnopqrstuvwxyz'\n",
    "  letters_to_match = 'ABCDEFGHIJKLMNOPQRSTUVWXYZ'\n",
    "  for c in letters:\n",
    "    char = rng.integers(0,len(letters_to_match))\n",
    "    encode_key[c] = letters_to_match[char:char+1]\n",
    "    letters_to_match = letters_to_match.replace(letters_to_match[char:char+1],\"\")\n",
    "  decode_key = {}\n",
    "  for c in encode_key:\n",
    "    decode_key[encode_key[c]]=c\n",
    "  return encode_key,decode_key\n",
    "\n",
    "def encodings(sentence:list, seeds:list=[1,2,3]):\n",
    "  e_keys = []\n",
    "  d_keys = []\n",
    "  temp_ciphers = []\n",
    "  cipher_class = []\n",
    "  unique_words = list(set(sentence))#Gets rid of duplicate words in the sentence\n",
    "  joined_sent = \" \".join(unique_words)\n",
    "  if(len(joined_sent) > MAX_LEN or len(joined_sent) < MIN_LEN):\n",
    "    return []\n",
    "  for seed in seeds:\n",
    "    e,d = generate_cipher(seed)\n",
    "    e_keys.append(e)\n",
    "    d_keys.append(d)\n",
    "    temp_sent = joined_sent\n",
    "    for key in e:\n",
    "      temp_sent = temp_sent.replace(key,e[key])\n",
    "    temp_ciphers.append(\" \".join(sorted(temp_sent.split(\" \"),key=lambda word: len(set(regex.sub('[[:punct:]a-z ]','',word)))))) # sorted by num of unique uppercase letters\n",
    "  \n",
    "  while(len(regex.sub('[[:punct:]a-z ]','',temp_ciphers[-1]))>0): #while there is an encoded value left in the cipher\n",
    "    #find the first replacable char in the cipher\n",
    "    letter_count = defaultdict(lambda:[0,0])#Count and letter position\n",
    "    for i in range(len(temp_ciphers[-1])):\n",
    "      if temp_ciphers[-1][i].isalpha() and temp_ciphers[-1][i].isupper(): #all replacable char are uppercase and letters\n",
    "        letter_count[temp_ciphers[-1][i]][0] += 1\n",
    "        letter_count[temp_ciphers[-1][i]][1] = i\n",
    "        \n",
    "    temp_split = temp_ciphers[-1].split(\" \")\n",
    "    refined_letter_count = {}\n",
    "\n",
    "    for word in temp_split: #Finds first word that is replacable\n",
    "      #print(word)\n",
    "      temp_word = regex.sub('[[:punct:]a-z ]','',word)\n",
    "      #print(temp_word)\n",
    "      if(len(temp_word)>0):\n",
    "        for letter in temp_word:\n",
    "          refined_letter_count[letter]=letter_count[letter]\n",
    "        break\n",
    "    replacable_index = max(refined_letter_count.values(),key=lambda v: v[0])[1] #The most common uppercase character located within the first word will be guessed\n",
    "    new_ciphers = []\n",
    "\n",
    "    for i in range(0,len(seeds)):\n",
    "      new_cipher = temp_ciphers[-(i+1)]\n",
    "      encoded_letter = new_cipher[replacable_index]\n",
    "      new_cipher = new_cipher.replace(encoded_letter,\"_\") # '_' is the class we are trying to get the RNN to guess\n",
    "      decoded_letter = d_keys[-(i+1)][encoded_letter] #We are doing the last N values of temp_ciphers, where N is the number of seeds.  This correlates to reading the d_keys in reverse\n",
    "      cipher_class.append((new_cipher,decoded_letter)) # (cipher,class)\n",
    "      \n",
    "      new_cipher = new_cipher.replace(\"_\",decoded_letter) #now new_cipher is partly decoded\n",
    "      new_ciphers.insert(0,\" \".join(sorted(new_cipher.split(\" \"),key=lambda word: len(set(regex.sub('[[:punct:]a-z ]','',word)))))) #now new_cipher has been resorted for decoding and has been inserted into pos0 of the new_ciphers list\n",
    "      #print(i,new_ciphers[0])\n",
    "    temp_ciphers += new_ciphers #adds new_ciphers to bottom of temp_ciphers\n",
    "    #print(len(regex.sub('[[:punct:]a-z ]','',temp_ciphers[-1])),regex.sub('[[:punct:]a-z ]','',temp_ciphers[-1]))\n",
    "    #print(\"test\")\n",
    "  #print(cipher_class)\n",
    "  return cipher_class\n",
    "\n",
    "def generate_training_data(processed_sentences:list,seeds:list=[1,2,3])->list:\n",
    "  training_data = []\n",
    "  #print(len(processed_sentences),processed_sentences[0])\n",
    "  seed_set = set([\" \".join([str(seed) for seed in seeds])])\n",
    "  #print(seed_set)\n",
    "  vocab_set = list(\"abcdefghijklmnopqrstuvwxyz_ABCDEFGHIJKLMNOPQRSTUVWXYZ'- \")\n",
    "  i = 0\n",
    "  for sentence in processed_sentences:\n",
    "    #print(vocab_set)\n",
    "    training_data += encodings(sentence,seeds)\n",
    "    #break\n",
    "    rng = np.random.default_rng(sum(seeds)*min(seeds)) #Changes the seed each time\n",
    "    #print(seeds)\n",
    "    seeds = list(rng.integers(low=0,high=len(training_data)+1000,size=len(seeds))) #New seeds each time, the max size increases each time\n",
    "    seed_str = \" \".join([str(seed) for seed in seeds])\n",
    "    if(seed_str in seed_set): #Confirms we dont have duplicate seeds\n",
    "      print(\"Duplicate seeds:\",seeds)\n",
    "    seed_set = seed_set.union(set([seed_str]))\n",
    "    i+=1\n",
    "  return training_data,vocab_set"
   ]
  },
  {
   "cell_type": "markdown",
   "metadata": {},
   "source": [
    "<B>Get Vocab Set and Training Data"
   ]
  },
  {
   "cell_type": "code",
   "execution_count": 21,
   "metadata": {},
   "outputs": [
    {
     "name": "stdout",
     "output_type": "stream",
     "text": [
      "2975949\n"
     ]
    }
   ],
   "source": [
    "XandY,vocab_set = generate_training_data(processed_sentences)\n",
    "print(len(XandY))"
   ]
  },
  {
   "cell_type": "code",
   "execution_count": 16,
   "metadata": {},
   "outputs": [],
   "source": [
    "def retrieve_xy():\n",
    "  XandY = []\n",
    "  vocab_set = list(\"abcdefghijklmnopqrstuvwxyz_ABCDEFGHIJKLMNOPQRSTUVWXYZ'- \")\n",
    "  f = open(\"xy1.txt\",\"r\")\n",
    "  for line in f:\n",
    "    x,y = line.split(\",\")\n",
    "    XandY.append((x,y[:-1]))\n",
    "  f.close()\n",
    "  return XandY,vocab_set\n",
    "\n",
    "def merge_xy(XY:list,make_file:bool=False):\n",
    "  if(make_file):\n",
    "    f = open(\"xy1.txt\", \"w\")\n",
    "  merged = []\n",
    "  pad_size = MAX_LEN+1\n",
    "  for x,y in XY:\n",
    "    if(make_file):\n",
    "      f.write(x+\",\"+y+\"\\n\")\n",
    "    combined = x+y\n",
    "    pad = pad_size - len(combined)\n",
    "    merged.append((\" \"*pad)+combined)\n",
    "  if(make_file):\n",
    "    f.close()\n",
    "  return merged\n",
    "\n",
    "def split_xy(XY:list):\n",
    "  pad_size = MAX_LEN+1\n",
    "  xs = []\n",
    "  ys = []\n",
    "  for x,y in XandY:\n",
    "    pad = pad_size - len(x)\n",
    "    xs.append((\" \"*pad)+x)\n",
    "    ys.append(y)\n",
    "  return xs,ys"
   ]
  },
  {
   "cell_type": "code",
   "execution_count": 20,
   "metadata": {},
   "outputs": [
    {
     "name": "stdout",
     "output_type": "stream",
     "text": [
      "['then', 'he', 'asked', 'to', 'use', 'the', 'phone', 'and', 'called', 'brian', 'thayer', 'who', 'said', 'that', 'he', 'was', 'just', 'leaving', 'to', 'keep', 'a', 'lunch', 'date', 'but', 'would', 'be', 'home', 'by', 'two', \"o'clock\"]\n",
      "(\"_ CE IJ CK PE CQI LEEG QBE _OH ZPJ IZJ Z_B IP_I IPE B_AH J'FNJFL H_IE DQBI PJRE IPEO NQOFP GPJOE ZJQNH _BLEH F_NNEH CWA_O IP_KEW NE_MAOX\", 'a')\n",
      "(\"a C_ IJ CK P_ aOH ZaB IPaI CQI L__G QB_ ZPJ IZJ IP_ BaAH HaI_ J'FNJFL DQBI PJR_ IP_O aBL_H FaNN_H CWAaO NQOFP GPJO_ ZJQNH IPaK_W N_aMAOX\", 'e')\n",
      "2975949\n",
      "['a', 'b', 'c', 'd', 'e', 'f', 'g', 'h', 'i', 'j', 'k', 'l', 'm', 'n', 'o', 'p', 'q', 'r', 's', 't', 'u', 'v', 'w', 'x', 'y', 'z', '_', 'A', 'B', 'C', 'D', 'E', 'F', 'G', 'H', 'I', 'J', 'K', 'L', 'M', 'N', 'O', 'P', 'Q', 'R', 'S', 'T', 'U', 'V', 'W', 'X', 'Y', 'Z', \"'\", '-', ' ']\n",
      "56\n"
     ]
    }
   ],
   "source": [
    "print(processed_sentences[0])\n",
    "print(XandY[0])\n",
    "print(XandY[3])\n",
    "print(len(XandY))\n",
    "print(vocab_set)\n",
    "print(len(vocab_set))"
   ]
  },
  {
   "cell_type": "markdown",
   "metadata": {},
   "source": [
    "<B>Create Dataset"
   ]
  },
  {
   "cell_type": "code",
   "execution_count": 19,
   "metadata": {},
   "outputs": [],
   "source": [
    "XandY,vocab_set = retrieve_xy()"
   ]
  },
  {
   "cell_type": "code",
   "execution_count": 6,
   "metadata": {},
   "outputs": [],
   "source": [
    "\n",
    "vocab_set = list(\"abcdefghijklmnopqrstuvwxyz_ABCDEFGHIJKLMNOPQRSTUVWXYZ'- \")"
   ]
  },
  {
   "cell_type": "code",
   "execution_count": 22,
   "metadata": {},
   "outputs": [],
   "source": [
    "merged = merge_xy(XandY,True)\n",
    "#XandY = []"
   ]
  },
  {
   "cell_type": "code",
   "execution_count": null,
   "metadata": {},
   "outputs": [],
   "source": []
  },
  {
   "cell_type": "code",
   "execution_count": 27,
   "metadata": {},
   "outputs": [],
   "source": [
    "ids_from_chars = tf.keras.layers.StringLookup(vocabulary=list(vocab_set), mask_token=None)\n",
    "chars_from_ids = tf.keras.layers.StringLookup(vocabulary=ids_from_chars.get_vocabulary(), invert=True, mask_token=None)"
   ]
  },
  {
   "cell_type": "code",
   "execution_count": 23,
   "metadata": {},
   "outputs": [],
   "source": [
    "combined_text = tf.strings.unicode_split(\"\".join(merged), input_encoding='UTF-8')"
   ]
  },
  {
   "cell_type": "code",
   "execution_count": 28,
   "metadata": {},
   "outputs": [],
   "source": [
    "def text_from_ids(ids):\n",
    "  return tf.strings.reduce_join(chars_from_ids(ids), axis=-1)"
   ]
  },
  {
   "cell_type": "code",
   "execution_count": 25,
   "metadata": {},
   "outputs": [],
   "source": [
    "all_ids = ids_from_chars(combined_text)"
   ]
  },
  {
   "cell_type": "code",
   "execution_count": 26,
   "metadata": {},
   "outputs": [
    {
     "name": "stdout",
     "output_type": "stream",
     "text": [
      "tf.Tensor([56 56 56 ... 27 11  3], shape=(746963199,), dtype=int64)\n"
     ]
    }
   ],
   "source": [
    "print(all_ids)"
   ]
  },
  {
   "cell_type": "code",
   "execution_count": 27,
   "metadata": {},
   "outputs": [
    {
     "name": "stdout",
     "output_type": "stream",
     "text": [
      "tf.Tensor(56, shape=(), dtype=int64) : ' '\n",
      "tf.Tensor(56, shape=(), dtype=int64) : ' '\n",
      "tf.Tensor(56, shape=(), dtype=int64) : ' '\n",
      "tf.Tensor(56, shape=(), dtype=int64) : ' '\n",
      "tf.Tensor(56, shape=(), dtype=int64) : ' '\n",
      "tf.Tensor(56, shape=(), dtype=int64) : ' '\n",
      "tf.Tensor(56, shape=(), dtype=int64) : ' '\n",
      "tf.Tensor(56, shape=(), dtype=int64) : ' '\n",
      "tf.Tensor(56, shape=(), dtype=int64) : ' '\n",
      "tf.Tensor(56, shape=(), dtype=int64) : ' '\n"
     ]
    }
   ],
   "source": [
    "ids_dataset = tf.data.Dataset.from_tensor_slices(all_ids)\n",
    "for ids in ids_dataset.take(10):\n",
    "  print(ids,\": '\"+chars_from_ids(ids).numpy().decode('utf-8')+\"'\")"
   ]
  },
  {
   "cell_type": "code",
   "execution_count": 28,
   "metadata": {},
   "outputs": [],
   "source": [
    "seq_length = MAX_LEN+1\n",
    "sequences = ids_dataset.batch(seq_length, drop_remainder=True)"
   ]
  },
  {
   "cell_type": "code",
   "execution_count": 29,
   "metadata": {},
   "outputs": [],
   "source": [
    "def split_input_target(sequence):\n",
    "  i=0\n",
    "  # for s in sequence:#Remove space padding\n",
    "  #   if(s!=56):\n",
    "  #     break\n",
    "  #   i+=1\n",
    "  input_text = sequence[i:-1]\n",
    "  #print(sequence)#.numpy()[-1])\n",
    "  target_text = tf.one_hot(sequence[-1],27)\n",
    "  return input_text, target_text"
   ]
  },
  {
   "cell_type": "code",
   "execution_count": 129,
   "metadata": {},
   "outputs": [
    {
     "name": "stdout",
     "output_type": "stream",
     "text": [
      "tf.Tensor(\n",
      "[0. 1. 0. 0. 0. 0. 0. 0. 0. 0. 0. 0. 0. 0. 0. 0. 0. 0. 0. 0. 0. 0. 0. 0.\n",
      " 0. 0.], shape=(26,), dtype=float32)\n"
     ]
    }
   ],
   "source": [
    "print(tf.one_hot(1,26))"
   ]
  },
  {
   "cell_type": "code",
   "execution_count": 62,
   "metadata": {},
   "outputs": [
    {
     "name": "stdout",
     "output_type": "stream",
     "text": [
      "input encoded :  tf.Tensor([56 56 56 47  5 14 19 15 18 33 12 15 23], shape=(13,), dtype=int64)\n",
      "target encoded :  tf.Tensor(\n",
      "[0. 1. 0. 0. 0. 0. 0. 0. 0. 0. 0. 0. 0. 0. 0. 0. 0. 0. 0. 0. 0. 0. 0. 0.\n",
      " 0. 0. 0.], shape=(27,), dtype=float32)\n",
      "Input : b'   TensorFlow'\n",
      "Target: b'[UNK]a[UNK][UNK][UNK][UNK][UNK][UNK][UNK][UNK][UNK][UNK][UNK][UNK][UNK][UNK][UNK][UNK][UNK][UNK][UNK][UNK][UNK][UNK][UNK][UNK][UNK]'\n"
     ]
    }
   ],
   "source": [
    "test_text = \"   TensorFlowa   TensorFlowa\"\n",
    "test_uni = tf.strings.unicode_split(test_text, input_encoding='UTF-8')\n",
    "test_ids = ids_from_chars(test_uni)\n",
    "test_data = tf.data.Dataset.from_tensor_slices(test_ids)\n",
    "test_seq = test_data.batch(len(\"   TensorFlow\")+1,drop_remainder=True)\n",
    "test_dataset = test_seq.map(split_input_target)\n",
    "for input_example, target_example in test_dataset.take(1):\n",
    "  print(\"input encoded : \",input_example)\n",
    "  print(\"target encoded : \",target_example)\n",
    "  print(\"Input :\", text_from_ids(input_example).numpy())\n",
    "  print(\"Target:\", text_from_ids(target_example).numpy())"
   ]
  },
  {
   "cell_type": "code",
   "execution_count": 30,
   "metadata": {},
   "outputs": [
    {
     "name": "stdout",
     "output_type": "stream",
     "text": [
      "input encoded :  tf.Tensor(\n",
      "[56 56 56 56 56 56 56 56 56 56 56 56 56 56 56 56 56 56 56 56 56 56 56 56\n",
      " 56 56 56 56 56 56 56 56 56 56 56 56 56 56 56 56 56 56 56 56 56 56 56 56\n",
      " 56 56 56 56 56 56 56 56 56 56 56 56 56 56 56 56 56 56 56 56 56 56 56 56\n",
      " 56 56 56 56 56 56 56 56 56 56 56 56 56 56 56 56 56 56 56 56 56 56 56 56\n",
      " 56 56 56 56 56 56 56 56 56 56 56 56 56 56 56 56 56 56 27 56 30 32 56 36\n",
      " 37 56 30 38 56 43 32 56 30 44 36 56 39 32 32 34 56 44 29 32 56 27 42 35\n",
      " 56 53 43 37 56 36 53 37 56 53 27 29 56 36 43 27 36 56 36 43 32 56 29 27\n",
      " 28 35 56 37 54 33 41 37 33 39 56 35 27 36 32 56 31 44 29 36 56 43 37 45\n",
      " 32 56 36 43 32 42 56 41 44 42 33 43 56 34 43 37 42 32 56 53 37 44 41 35\n",
      " 56 27 29 39 32 35 56 33 27 41 41 32 35 56 30 50 28 27 42 56 36 43 27 38\n",
      " 32 50 56 41 32 27 40 28 42 51], shape=(250,), dtype=int64)\n",
      "target encoded :  tf.Tensor(\n",
      "[0. 1. 0. 0. 0. 0. 0. 0. 0. 0. 0. 0. 0. 0. 0. 0. 0. 0. 0. 0. 0. 0. 0. 0.\n",
      " 0. 0. 0.], shape=(27,), dtype=float32)\n",
      "Input : b\"                                                                                                                  _ CE IJ CK PE CQI LEEG QBE _OH ZPJ IZJ Z_B IP_I IPE B_AH J'FNJFL H_IE DQBI PJRE IPEO NQOFP GPJOE ZJQNH _BLEH F_NNEH CWA_O IP_KEW NE_MAOX\"\n",
      "Target: [b'[UNK]' b'a' b'[UNK]' b'[UNK]' b'[UNK]' b'[UNK]' b'[UNK]' b'[UNK]'\n",
      " b'[UNK]' b'[UNK]' b'[UNK]' b'[UNK]' b'[UNK]' b'[UNK]' b'[UNK]' b'[UNK]'\n",
      " b'[UNK]' b'[UNK]' b'[UNK]' b'[UNK]' b'[UNK]' b'[UNK]' b'[UNK]' b'[UNK]'\n",
      " b'[UNK]' b'[UNK]' b'[UNK]']\n",
      "56\n"
     ]
    }
   ],
   "source": [
    "dataset = sequences.map(split_input_target)\n",
    "for input_example, target_example in dataset.take(1):\n",
    "  print(\"input encoded : \",input_example)\n",
    "  print(\"target encoded : \",target_example)\n",
    "  #print(\"target encoded : \",tf.keras.utils.to_categorical(target_example,len(vocab_set)))\n",
    "  print(\"Input :\", text_from_ids(input_example).numpy())\n",
    "  print(\"Target:\", chars_from_ids(target_example).numpy())\n",
    "print(len(vocab_set))"
   ]
  },
  {
   "cell_type": "code",
   "execution_count": 31,
   "metadata": {},
   "outputs": [],
   "source": [
    "dataset.save(\"./full_dataset5\")"
   ]
  },
  {
   "cell_type": "code",
   "execution_count": 9,
   "metadata": {},
   "outputs": [],
   "source": [
    "dataset = tf.data.Dataset.load(\"./full_dataset5\")"
   ]
  },
  {
   "cell_type": "code",
   "execution_count": 10,
   "metadata": {},
   "outputs": [],
   "source": [
    "BATCH_SIZE = 1024\n",
    "BUFFER_SIZE = 100_000\n",
    "dataset = (dataset\n",
    "          .shuffle(BUFFER_SIZE)\n",
    "          .batch(BATCH_SIZE, drop_remainder=True)\n",
    "          .prefetch(tf.data.experimental.AUTOTUNE))\n",
    "\n",
    "train_size = int(0.975 * len(dataset))\n",
    "val_size = int(0.025 *  len(dataset))\n",
    "test_size = int(0.025 *  len(dataset))\n",
    "\n",
    "#TRAINING VAL TEST SPLIT\n",
    "\n",
    "train_dataset = dataset.take(train_size) \n",
    "test_dataset = dataset.skip(train_size)\n",
    "val_dataset = test_dataset.skip(val_size)\n",
    "test_dataset = test_dataset.take(test_size)\n"
   ]
  },
  {
   "cell_type": "markdown",
   "metadata": {},
   "source": [
    "<B> Create RNN"
   ]
  },
  {
   "cell_type": "code",
   "execution_count": 50,
   "metadata": {},
   "outputs": [
    {
     "name": "stdout",
     "output_type": "stream",
     "text": [
      "56\n",
      "Model: \"sequential_2\"\n",
      "_________________________________________________________________\n",
      " Layer (type)                Output Shape              Param #   \n",
      "=================================================================\n",
      " embedding_2 (Embedding)     (None, None, 256)         14336     \n",
      "                                                                 \n",
      " bidirectional_2 (Bidirectio  (None, 512)              1050624   \n",
      " nal)                                                            \n",
      "                                                                 \n",
      " dense_2 (Dense)             (None, 27)                13851     \n",
      "                                                                 \n",
      "=================================================================\n",
      "Total params: 1,078,811\n",
      "Trainable params: 1,078,811\n",
      "Non-trainable params: 0\n",
      "_________________________________________________________________\n",
      "Epoch 1/100\n",
      "5666/5666 [==============================] - 528s 93ms/step - loss: 0.8997 - accuracy: 0.7141 - val_loss: 0.3230 - val_accuracy: 0.9004\n",
      "Epoch 2/100\n",
      "5666/5666 [==============================] - 524s 92ms/step - loss: 0.3318 - accuracy: 0.8918 - val_loss: 0.2240 - val_accuracy: 0.9199\n",
      "Epoch 3/100\n",
      "5666/5666 [==============================] - 523s 92ms/step - loss: 0.2495 - accuracy: 0.9190 - val_loss: 0.1977 - val_accuracy: 0.9258\n",
      "Epoch 4/100\n",
      "5666/5666 [==============================] - 528s 93ms/step - loss: 0.2072 - accuracy: 0.9328 - val_loss: 0.1497 - val_accuracy: 0.9531\n",
      "Epoch 5/100\n",
      "5666/5666 [==============================] - 524s 92ms/step - loss: 0.1798 - accuracy: 0.9417 - val_loss: 0.1726 - val_accuracy: 0.9453\n",
      "Epoch 6/100\n",
      "5666/5666 [==============================] - 524s 92ms/step - loss: 0.1609 - accuracy: 0.9480 - val_loss: 0.1903 - val_accuracy: 0.9453\n",
      "Epoch 7/100\n",
      "5666/5666 [==============================] - 523s 92ms/step - loss: 0.1470 - accuracy: 0.9524 - val_loss: 0.1159 - val_accuracy: 0.9648\n",
      "Epoch 8/100\n",
      "5666/5666 [==============================] - 526s 93ms/step - loss: 0.1365 - accuracy: 0.9556 - val_loss: 0.1292 - val_accuracy: 0.9551\n",
      "Epoch 9/100\n",
      "5666/5666 [==============================] - 522s 92ms/step - loss: 0.1285 - accuracy: 0.9582 - val_loss: 0.0841 - val_accuracy: 0.9746\n",
      "Epoch 10/100\n",
      "5666/5666 [==============================] - 521s 92ms/step - loss: 0.1220 - accuracy: 0.9604 - val_loss: 0.1620 - val_accuracy: 0.9551\n",
      "Epoch 11/100\n",
      "5666/5666 [==============================] - 521s 92ms/step - loss: 0.1181 - accuracy: 0.9615 - val_loss: 0.0874 - val_accuracy: 0.9648\n",
      "Epoch 12/100\n",
      "5666/5666 [==============================] - 524s 92ms/step - loss: 0.1143 - accuracy: 0.9628 - val_loss: 0.0939 - val_accuracy: 0.9805\n",
      "Epoch 13/100\n",
      "5666/5666 [==============================] - 522s 92ms/step - loss: 0.1106 - accuracy: 0.9638 - val_loss: 0.0738 - val_accuracy: 0.9785\n",
      "Epoch 14/100\n",
      "5666/5666 [==============================] - 523s 92ms/step - loss: 0.1081 - accuracy: 0.9647 - val_loss: 0.1039 - val_accuracy: 0.9707\n",
      "Epoch 15/100\n",
      "5666/5666 [==============================] - 521s 92ms/step - loss: 0.1060 - accuracy: 0.9655 - val_loss: 0.0802 - val_accuracy: 0.9727\n",
      "Epoch 16/100\n",
      "5666/5666 [==============================] - 524s 92ms/step - loss: 0.1045 - accuracy: 0.9658 - val_loss: 0.1298 - val_accuracy: 0.9648\n",
      "Epoch 17/100\n",
      "5666/5666 [==============================] - 522s 92ms/step - loss: 0.1041 - accuracy: 0.9658 - val_loss: 0.0909 - val_accuracy: 0.9746\n",
      "Epoch 18/100\n",
      "5666/5666 [==============================] - 523s 92ms/step - loss: 0.1017 - accuracy: 0.9667 - val_loss: 0.0804 - val_accuracy: 0.9766\n",
      "Epoch 19/100\n",
      "5666/5666 [==============================] - 521s 92ms/step - loss: 0.1008 - accuracy: 0.9668 - val_loss: 0.0879 - val_accuracy: 0.9648\n",
      "Epoch 20/100\n",
      "5666/5666 [==============================] - 524s 92ms/step - loss: 0.0998 - accuracy: 0.9673 - val_loss: 0.0755 - val_accuracy: 0.9746\n",
      "Epoch 21/100\n",
      "5666/5666 [==============================] - 520s 91ms/step - loss: 0.0994 - accuracy: 0.9674 - val_loss: 0.0867 - val_accuracy: 0.9727\n",
      "Epoch 22/100\n",
      "5666/5666 [==============================] - 521s 92ms/step - loss: 0.0987 - accuracy: 0.9676 - val_loss: 0.1084 - val_accuracy: 0.9688\n",
      "Epoch 23/100\n",
      "5666/5666 [==============================] - 519s 91ms/step - loss: 0.0978 - accuracy: 0.9679 - val_loss: 0.0993 - val_accuracy: 0.9707\n",
      "Epoch 24/100\n",
      "5666/5666 [==============================] - 523s 92ms/step - loss: 0.0978 - accuracy: 0.9678 - val_loss: 0.1171 - val_accuracy: 0.9707\n",
      "Epoch 25/100\n",
      "5666/5666 [==============================] - 520s 91ms/step - loss: 0.0969 - accuracy: 0.9680 - val_loss: 0.0954 - val_accuracy: 0.9688\n",
      "Epoch 26/100\n",
      "5666/5666 [==============================] - 521s 92ms/step - loss: 0.1012 - accuracy: 0.9667 - val_loss: 0.0677 - val_accuracy: 0.9805\n",
      "Epoch 27/100\n",
      "5666/5666 [==============================] - 523s 92ms/step - loss: 0.0950 - accuracy: 0.9688 - val_loss: 0.0925 - val_accuracy: 0.9766\n",
      "Epoch 28/100\n",
      "5666/5666 [==============================] - 523s 92ms/step - loss: 0.0945 - accuracy: 0.9689 - val_loss: 0.0820 - val_accuracy: 0.9766\n",
      "Epoch 29/100\n",
      "5666/5666 [==============================] - 520s 91ms/step - loss: 0.0937 - accuracy: 0.9693 - val_loss: 0.1107 - val_accuracy: 0.9668\n",
      "Epoch 30/100\n",
      "5666/5666 [==============================] - 520s 91ms/step - loss: 0.0930 - accuracy: 0.9695 - val_loss: 0.0994 - val_accuracy: 0.9668\n",
      "Epoch 31/100\n",
      "5666/5666 [==============================] - 520s 91ms/step - loss: 0.0939 - accuracy: 0.9692 - val_loss: 0.0749 - val_accuracy: 0.9688\n",
      "Epoch 32/100\n",
      "5666/5666 [==============================] - 523s 92ms/step - loss: 0.0955 - accuracy: 0.9685 - val_loss: 0.0711 - val_accuracy: 0.9824\n",
      "Epoch 33/100\n",
      "5666/5666 [==============================] - 521s 92ms/step - loss: 0.0947 - accuracy: 0.9687 - val_loss: 0.0970 - val_accuracy: 0.9648\n"
     ]
    }
   ],
   "source": [
    "dataset = tf.data.Dataset.load(\"./full_dataset5\")\n",
    "BATCH_SIZE = 512\n",
    "BUFFER_SIZE = 100_000\n",
    "dataset = (dataset\n",
    "          .shuffle(BUFFER_SIZE)\n",
    "          .batch(BATCH_SIZE, drop_remainder=True)\n",
    "          .prefetch(tf.data.experimental.AUTOTUNE))\n",
    "\n",
    "train_size = int(0.975 * len(dataset))\n",
    "val_size = int(0.025 *  len(dataset))\n",
    "test_size = int(0.025 *  len(dataset))\n",
    "\n",
    "#TRAINING VAL TEST SPLIT\n",
    "\n",
    "train_dataset = dataset.take(train_size) \n",
    "test_dataset = dataset.skip(train_size)\n",
    "val_dataset = test_dataset.skip(val_size)\n",
    "test_dataset = test_dataset.take(test_size)\n",
    "\n",
    "vocab_size = len(vocab_set) #letters AND spaces AND ' AND - AND _\n",
    "print(vocab_size)\n",
    "\n",
    "# The embedding dimension\n",
    "embedding_dim = 256\n",
    "# Number of RNN units\n",
    "rnn_units = 256\n",
    "\n",
    "input_shape = (None, embedding_dim)\n",
    "\n",
    "lstmB512 = tf.keras.Sequential([\n",
    "   tf.keras.layers.Embedding(vocab_size, embedding_dim),\n",
    "   tf.keras.layers.Bidirectional(\n",
    "     tf.keras.layers.LSTM(rnn_units,input_shape=input_shape)\n",
    "   ),\n",
    "   tf.keras.layers.Dense(27)# ,activation=\"softmax\")  # Example output layer\n",
    "])\n",
    "lstmB512.summary()\n",
    "loss = tf.losses.CategoricalCrossentropy(from_logits=True)\n",
    "lstmB512.compile(optimizer='adam', loss=loss,metrics=['accuracy'])\n",
    "# Directory where the checkpoints will be saved\n",
    "checkpoint_dir = './training_checkpoints5_lstmE'+str(embedding_dim)+'R'+str(rnn_units)+'B'+str(BATCH_SIZE)\n",
    "# Name of the checkpoint files\n",
    "checkpoint_prefix = os.path.join(checkpoint_dir, \"ckpt_{epoch}\")\n",
    "\n",
    "checkpoint_callback = tf.keras.callbacks.ModelCheckpoint(\n",
    "    filepath=checkpoint_prefix,\n",
    "    save_weights_only=True)\n",
    "\n",
    "# Stops training if there is no improvement for threee consec epochs\n",
    "early_stop_callback = keras.callbacks.EarlyStopping(monitor='loss',patience=3) \n",
    "\n",
    "EPOCHS = 100\n",
    "# Start training your model\n",
    "lstm_historyB256 = lstmB512.fit(train_dataset,validation_data=val_dataset, epochs=EPOCHS, callbacks=[checkpoint_callback,early_stop_callback])"
   ]
  },
  {
   "cell_type": "code",
   "execution_count": 24,
   "metadata": {},
   "outputs": [
    {
     "name": "stdout",
     "output_type": "stream",
     "text": [
      "56\n",
      "Model: \"sequential_1\"\n",
      "_________________________________________________________________\n",
      " Layer (type)                Output Shape              Param #   \n",
      "=================================================================\n",
      " embedding_1 (Embedding)     (None, None, 256)         14336     \n",
      "                                                                 \n",
      " bidirectional_1 (Bidirectio  (None, 512)              1050624   \n",
      " nal)                                                            \n",
      "                                                                 \n",
      " dense_1 (Dense)             (None, 27)                13851     \n",
      "                                                                 \n",
      "=================================================================\n",
      "Total params: 1,078,811\n",
      "Trainable params: 1,078,811\n",
      "Non-trainable params: 0\n",
      "_________________________________________________________________\n"
     ]
    },
    {
     "data": {
      "text/plain": [
       "<tensorflow.python.training.tracking.util.CheckpointLoadStatus at 0x2ea8cc45b20>"
      ]
     },
     "execution_count": 24,
     "metadata": {},
     "output_type": "execute_result"
    }
   ],
   "source": [
    "vocab_size = len(vocab_set) #letters AND spaces AND ' AND - AND _\n",
    "print(vocab_size)\n",
    "BATCH_SIZE = 1024\n",
    "# The embedding dimension\n",
    "embedding_dim = 256\n",
    "# Number of RNN units\n",
    "rnn_units = 256\n",
    "\n",
    "input_shape = (None, embedding_dim)\n",
    "\n",
    "lstm = tf.keras.Sequential([\n",
    "   tf.keras.layers.Embedding(vocab_size, embedding_dim),\n",
    "   tf.keras.layers.Bidirectional(\n",
    "     tf.keras.layers.LSTM(rnn_units,input_shape=input_shape)\n",
    "   ),\n",
    "   tf.keras.layers.Dense(27)# ,activation=\"softmax\")  # Example output layer\n",
    "])\n",
    "lstm.summary()\n",
    "loss = tf.losses.CategoricalCrossentropy(from_logits=True)\n",
    "lstm.compile(optimizer='adam', loss=loss,metrics=['accuracy'])\n",
    "# Directory where the checkpoints will be saved\n",
    "checkpoint_dir = './training_checkpoints5_lstmE'+str(embedding_dim)+'R'+str(rnn_units)+'B'+str(BATCH_SIZE)\n",
    "# Name of the checkpoint files\n",
    "checkpoint_prefix = os.path.join(checkpoint_dir, \"ckpt_{epoch}\")\n",
    "\n",
    "checkpoint_callback = tf.keras.callbacks.ModelCheckpoint(\n",
    "    filepath=checkpoint_prefix,\n",
    "    save_weights_only=True)\n",
    "\n",
    "# Stops training if there is no improvement for threee consec epochs\n",
    "early_stop_callback = keras.callbacks.EarlyStopping(monitor='loss',patience=3) \n",
    "\n",
    "EPOCHS = 40\n",
    "# Start training your model\n",
    "# lstm_history = lstm.fit(train_dataset,validation_data=val_dataset, epochs=EPOCHS, callbacks=[checkpoint_callback,early_stop_callback])\n",
    "\n",
    "lstm_latest = tf.train.latest_checkpoint(checkpoint_dir)\n",
    "lstm.load_weights(lstm_latest)"
   ]
  },
  {
   "cell_type": "code",
   "execution_count": 64,
   "metadata": {},
   "outputs": [
    {
     "data": {
      "image/png": "[encoded data removed]",
      "text/plain": [
       "<Figure size 640x480 with 1 Axes>"
      ]
     },
     "metadata": {},
     "output_type": "display_data"
    }
   ],
   "source": [
    "plt.plot(lstm_historyB256.history['accuracy'])\n",
    "plt.plot(lstm_historyB256.history['val_accuracy'])\n",
    "plt.title('lstmE256R256B512-5 Model accuracy')\n",
    "plt.ylabel('loss')\n",
    "plt.xlabel('epoch')\n",
    "plt.legend(['train', 'validation'], loc='upper left')\n",
    "plt.show()"
   ]
  },
  {
   "cell_type": "code",
   "execution_count": 65,
   "metadata": {},
   "outputs": [
    {
     "data": {
      "image/png": "[encoded data removed]",
      "text/plain": [
       "<Figure size 640x480 with 1 Axes>"
      ]
     },
     "metadata": {},
     "output_type": "display_data"
    }
   ],
   "source": [
    "plt.plot(lstm_historyB256.history['loss'])\n",
    "plt.plot(lstm_historyB256.history['val_loss'])\n",
    "plt.title('lstmE256R256B512-5 Model Loss')\n",
    "plt.ylabel('loss')\n",
    "plt.xlabel('epoch')\n",
    "plt.legend(['train', 'validation'], loc='upper left')\n",
    "plt.show()#Epoch 30 or 32"
   ]
  },
  {
   "cell_type": "code",
   "execution_count": 15,
   "metadata": {},
   "outputs": [
    {
     "name": "stdout",
     "output_type": "stream",
     "text": [
      "72/72 [==============================] - 64s 44ms/step - loss: 0.0762 - accuracy: 0.9771\n",
      "LSTM Loss on Test Data:  0.07619398832321167\n",
      "LSTM Acc on Test Data:  0.9771050214767456\n"
     ]
    }
   ],
   "source": [
    "lstm_loss,lstm_acc = lstm.evaluate(test_dataset)\n",
    "print(\"LSTM Loss on Test Data: \",lstm_loss)\n",
    "print(\"LSTM Acc on Test Data: \",lstm_acc)"
   ]
  },
  {
   "cell_type": "code",
   "execution_count": 39,
   "metadata": {},
   "outputs": [
    {
     "name": "stdout",
     "output_type": "stream",
     "text": [
      "WZTMSMECCIHPWYNHPEHPRBMWVMCVMTPMSMEYAHPEHHPWVCWZMWVETEYAMSWYLHRZWYAPRBMTPIVPRGCATMYRHCRRNZRSTESAHRHPMESSWXEC\n"
     ]
    }
   ],
   "source": [
    "def read_cipher():\n",
    "  cipher = ''\n",
    "  f = open('cipher.txt','r')\n",
    "  for line in f:\n",
    "    if(line[0].isalpha()):\n",
    "      cipher+=line[0]\n",
    "  f.close()\n",
    "  return cipher\n",
    "print(read_cipher())"
   ]
  },
  {
   "cell_type": "markdown",
   "metadata": {},
   "source": [
    "WZ TM SMECCI HPWYN HPEH PRBM WV MCVMTPMSM EYA HPEH HPWV CWZM WV E TEYAMSWYL HR ZWYA PRBM TPI VPRGCA TM YRH CRRN ZRSTESA HR HPM ESSWXEC"
   ]
  },
  {
   "cell_type": "markdown",
   "metadata": {},
   "source": [
    "<B>Search Algo"
   ]
  },
  {
   "cell_type": "code",
   "execution_count": 44,
   "metadata": {},
   "outputs": [],
   "source": [
    "def DijkstraSearch(RNN, cipher:str, temperature = 1.0,guesses:int=10): #Without States\n",
    "  skip_ids = ids_from_chars(['[UNK]'])[:, None]\n",
    "  sparse_mask = tf.SparseTensor(\n",
    "      # Put a -inf at each bad index.\n",
    "      values=[-float('inf')]*len(skip_ids),\n",
    "      indices=skip_ids,\n",
    "      # Match the shape to the vocabulary\n",
    "      dense_shape=[27])\n",
    "  prediction_mask = tf.sparse.to_dense(sparse_mask)\n",
    "  \n",
    "  @tf.function\n",
    "  def one_step(RNN,inputs):\n",
    "    input_chars = tf.strings.unicode_split(inputs,'UTF-8')\n",
    "    input_ids = ids_from_chars(input_chars).to_tensor()\n",
    "    predicted_logits = RNN(inputs=input_ids)\n",
    "    #predicted_logits = predicted_logits[:,-1,:]\n",
    "    predicted_logits = predicted_logits/temperature\n",
    "    predicted_logits += prediction_mask\n",
    "    return predicted_logits #-1 is the last character in the sequence\n",
    "  \n",
    "  letters = ' abcdefghijklmnopqrstuvwxyz'\n",
    "  cleaned_cipher = \" \".join(process_sentence(list(set(cipher.split(\" \"))),lower=False)) #Gets rid of duplicate words in the sentence, and cleans up sentence\n",
    "  available_letters = [0,1,2,3,4,5,6,7,8,9,10,11,12,13,14,15,16,17,18,19,20,21,22,23,24,25,26]\n",
    "\n",
    "  # THIS NEEDS TO BE MODIFIED TO INTRODUCE THE CORRECT LETTER WHEN IT IS THAT LETTERS TURN TO BE GUESSED MAYBE???\n",
    "  for i in range(len(letters)):\n",
    "    if(i!=0 and cleaned_cipher.find(letters[i])>-1):\n",
    "      available_letters[i] = letters[i]\n",
    "\n",
    "\n",
    "  #cleaned_cipher = cleaned_cipher.upper()\n",
    "\n",
    "  nextNodes = [(0,cleaned_cipher,available_letters)] # We can set our starting prob to zero because all sequences share the starting probability value\n",
    "  final_guesses = []\n",
    "  while len(nextNodes)>0:\n",
    "    currentNode = nextNodes.pop()\n",
    "    new_cipher = \" \".join(sorted(currentNode[1].split(\" \"),key=lambda word: len(set(regex.sub('[[:punct:]a-z ]','',word))))) # sorted by num of unique uppercase letters\n",
    "    #print(currentNode[0],new_cipher,currentNode[2])\n",
    "\n",
    "    letter_count = defaultdict(lambda:[0,0])#Count and letter position\n",
    "    for i in range(len(new_cipher)):\n",
    "      if new_cipher[i].isalpha() and new_cipher[i].isupper(): #all replacable char are uppercase and letters\n",
    "        letter_count[new_cipher[i]][0] += 1\n",
    "        letter_count[new_cipher[i]][1] = i\n",
    "        \n",
    "    temp_split = new_cipher.split(\" \")\n",
    "    refined_letter_count = {}\n",
    "    replacable_index = -1\n",
    "\n",
    "    for word in temp_split: #Finds first word that is replacable\n",
    "      temp_word = regex.sub('[[:punct:]a-z ]','',word)\n",
    "      if(len(temp_word)>0):\n",
    "        for letter in temp_word:\n",
    "          refined_letter_count[letter]=letter_count[letter]\n",
    "        replacable_index = max(refined_letter_count.values(),key=lambda v: v[0])[1] #The most common uppercase character located within the first word will be guessed\n",
    "        break\n",
    "    \n",
    "    if(replacable_index==-1):#There are no more replacable characters AKA End Condition\n",
    "      final_guesses.append(currentNode)\n",
    "      if(len(final_guesses)==guesses):\n",
    "        return final_guesses\n",
    "      continue\n",
    "\n",
    "    \n",
    "    replaced_letter = new_cipher[replacable_index]\n",
    "\n",
    "    # if(str(available_letters[letters.find(replaced_letter.lower())]).isalpha()): #If this was a letter that was presolved\n",
    "    #   cipher_guess = new_cipher.replace(replaced_letter,replaced_letter.lower())\n",
    "    #   remaining_indexes = copy.deepcopy(currentNode[2]) #idk if this is needed, but i didnt want to risk it\n",
    "    #   nextNodes.append((currentNode[0],cipher_guess,remaining_indexes))\n",
    "    #   continue\n",
    "    \n",
    "    new_cipher = new_cipher.replace(replaced_letter,\"_\")#which class we are going to choose\n",
    "\n",
    "    tf_cipher = tf.constant([new_cipher])\n",
    "    predicted_logits = one_step(RNN,tf_cipher) # Predicted Logits for the last letter in the sequence\n",
    "    softmax = tf.nn.softmax(predicted_logits,1)      \n",
    "    new_nodes, node_indices = tf.nn.top_k(softmax, k=26)\n",
    "    node_ids = tf.get_static_value(node_indices)\n",
    "    node_scores = tf.get_static_value(new_nodes)\n",
    "    \n",
    "    for i in range(len(node_ids[0])):\n",
    "      index = node_ids[0][i]\n",
    "      if(not index in currentNode[2]):\n",
    "        continue\n",
    "      cipher_guess = new_cipher.replace(\"_\",letters[index]) #Appends new char to sequence\n",
    "      remaining_indexes = copy.deepcopy(currentNode[2])\n",
    "      remaining_indexes[index]=replaced_letter\n",
    "      new_score = currentNode[0] + np.log2(node_scores[0][i]) #+ np.log2(27-len(remaining_indexes))\n",
    "      nextNodes.append((new_score,cipher_guess,remaining_indexes))\n",
    "    nextNodes = sorted(nextNodes, key=lambda seq: seq[0]) #Sort in ascending order because pop() pops last value off the array\n",
    "    #return nextNodes\n",
    "  return final_guesses\n",
    "        "
   ]
  },
  {
   "cell_type": "code",
   "execution_count": 40,
   "metadata": {},
   "outputs": [],
   "source": [
    "guesses = DijkstraSearch(lstm,\"m whmerbj zmnqrbh, mcumfy ugobe od mbe jgrbj, qh zmyihwhe uqmihahw umy bgi ugwiq iqh pbgurbj.\".upper(),guesses=20)"
   ]
  },
  {
   "cell_type": "code",
   "execution_count": 45,
   "metadata": {},
   "outputs": [],
   "source": [
    "guesses = DijkstraSearch(lstm,\"WZ TM SMECCI HPWYN HPEH PRBM WV MCVMTPMSM EYA HPEH HPWV CWZM WV E TEYAMSWYL HR ZWYA PRBM TPI VPRGCA TM YRH CRRN ZRSTESA HR HPM ESSWXEC\",guesses=20)"
   ]
  },
  {
   "cell_type": "code",
   "execution_count": 60,
   "metadata": {},
   "outputs": [],
   "source": [
    "#guesses = DijkstraSearch(lstm,'SZMW GSRH XZIW GL Z HGIZMTVI DSROV HZBRMT GSV PVB KSIZHV: \"YILXXLOR RH NZM NZWV\"',guesses=10)\n",
    "guesses  = DijkstraSearch(lstm,'SZMW GSRH cZIW GL Z HGIZMTVI DSROV HZBRMT GSV PVB KSIZHV: \"YILccLOR RH NZM NZWV\"',guesses=10)\n",
    "guesses1 = DijkstraSearch(lstm,'SaMW GSRH caIW GL a HGIaMTVI DSROV HaBRMT GSV PVB KSIaHV: \"YILccLOR RH NaM NaWV\"',guesses=10)\n",
    "#guesses = DijkstraSearch(lstm,'SZMd GSRH cZId GL Z HGIZMTVI DSROV HZBRMT GSV PVB KSIZHV: \"YILccLOR RH NZM NZdV\"',guesses=10)\n"
   ]
  },
  {
   "cell_type": "code",
   "execution_count": 62,
   "metadata": {},
   "outputs": [],
   "source": [
    "guesses2 = DijkstraSearch(lstm,'SaMW GSRH carW GL a HGraMTVr DSROV HaBRMT GSV PVB KSraHV: \"YrLccLOR RH NaM NaWV\"',guesses=10)"
   ]
  },
  {
   "cell_type": "code",
   "execution_count": 58,
   "metadata": {},
   "outputs": [
    {
     "name": "stdout",
     "output_type": "stream",
     "text": [
      "(-7.854477527767017, 'a on ys olys ole had ladg hage few sawydt soradter plrase carg blyke urnccnky', [0, 'a', 'D', 'c', 'M', 'V', 'P', 'W', 'N', 9, 10, 'O', 'S', 13, 'L', 'G', 'K', 17, 'I', 'H', 'T', 'Y', 22, 'B', 24, 'R', 26])\n",
      "(-9.41834502762049, 'a on yl oryl ore hag ragk hake few lawygs louagseu bruale cauk pryte dunccnty', [0, 'a', 'K', 'c', 'Y', 'V', 'P', 'M', 'N', 9, 10, 'W', 'H', 13, 'L', 'G', 'D', 17, 'S', 'T', 'O', 'I', 22, 'B', 24, 'R', 26])\n",
      "(-9.586628523150921, 'a on ym olym ole gas last gate bed madysk morasker flrame cart plyve urnccnvy', [0, 'a', 'P', 'c', 'B', 'V', 'K', 'N', 8, 9, 10, 'T', 'S', 'H', 'L', 'G', 'D', 17, 'I', 'M', 'W', 'Y', 'O', 23, 24, 'R', 26])\n",
      "(-9.70209210202404, 'a on ys olys ole had ladk hake few sawydt soradter glrase cark plyme urnccnmy', [0, 'a', 2, 'c', 'M', 'V', 'P', 'K', 'N', 9, 10, 'W', 'S', 'O', 'L', 'G', 'D', 17, 'I', 'H', 'T', 'Y', 22, 'B', 24, 'R', 26])\n",
      "(-9.763775122345692, 'a on ys olys ole had ladk hake few sawydt soradter ulrase cark plyge mrnccngy', [0, 'a', 2, 'c', 'M', 'V', 'P', 'O', 'N', 9, 10, 'W', 'S', 'Y', 'L', 'G', 'D', 17, 'I', 'H', 'T', 'K', 22, 'B', 24, 'R', 26])\n",
      "(-10.09452264704305, 'a or is onis one bag nagd bade jev savigl souagleu pnuase caud knife murccrfi', [0, 'a', 'N', 'c', 'W', 'V', 'O', 'M', 8, 'R', 'P', 'D', 'T', 'Y', 'S', 'G', 'K', 17, 'L', 'H', 20, 'I', 'B', 23, 24, 25, 26])\n",
      "(-10.448169121628894, 'a on ys olys ole had ladk hake few sawydi soradier ulrase cark glyte mrnccnty', [0, 'a', 2, 'c', 'M', 'V', 'P', 'D', 'N', 'T', 10, 'W', 'S', 'Y', 'L', 'G', 16, 17, 'I', 'H', 'O', 'K', 22, 'B', 24, 'R', 26])\n",
      "(-10.531043757678276, 'a on ys olys ole had ladk hake few sawydt soradter plrase cark blyge urnccngy', [0, 'a', 'D', 'c', 'M', 'V', 'P', 'O', 'N', 9, 10, 'W', 'S', 13, 'L', 'G', 'K', 17, 'I', 'H', 'T', 'Y', 22, 'B', 24, 'R', 26])\n",
      "(-11.113448265374245, 'a on ym olym ole gas last gate bev mavysk morasker flrame cart plyde urnccndy', [0, 'a', 'P', 'c', 'O', 'V', 'K', 'N', 8, 9, 10, 'T', 'S', 'H', 'L', 'G', 'D', 17, 'I', 'M', 'W', 'Y', 'B', 23, 24, 'R', 26])\n",
      "(-11.318122804205927, 'a on ys olys ole had ladk hake jef safydg soradger plrase cark mlyte urnccnty', [0, 'a', 2, 'c', 'M', 'V', 'B', 'T', 'N', 9, 'P', 'W', 'S', 'D', 'L', 'G', 'K', 17, 'I', 'H', 'O', 'Y', 22, 23, 24, 'R', 26])\n"
     ]
    }
   ],
   "source": [
    "for i in guesses:\n",
    "  print(i)"
   ]
  },
  {
   "cell_type": "code",
   "execution_count": 61,
   "metadata": {},
   "outputs": [
    {
     "name": "stdout",
     "output_type": "stream",
     "text": [
      "(-7.854477527767017, 'a on ys olys ole had ladg hage few sawydt soradter plrase carg blyke urnccnky', [0, 'a', 'D', 'c', 'M', 'V', 'P', 'W', 'N', 9, 10, 'O', 'S', 13, 'L', 'G', 'K', 17, 'I', 'H', 'T', 'Y', 22, 'B', 24, 'R', 26])\n",
      "(-9.41834502762049, 'a on yl oryl ore hag ragk hake few lawygs louagseu bruale cauk pryte dunccnty', [0, 'a', 'K', 'c', 'Y', 'V', 'P', 'M', 'N', 9, 10, 'W', 'H', 13, 'L', 'G', 'D', 17, 'S', 'T', 'O', 'I', 22, 'B', 24, 'R', 26])\n",
      "(-9.586628523150921, 'a on ym olym ole gas last gate bed madysk morasker flrame cart plyve urnccnvy', [0, 'a', 'P', 'c', 'B', 'V', 'K', 'N', 8, 9, 10, 'T', 'S', 'H', 'L', 'G', 'D', 17, 'I', 'M', 'W', 'Y', 'O', 23, 24, 'R', 26])\n",
      "(-9.70209210202404, 'a on ys olys ole had ladk hake few sawydt soradter glrase cark plyme urnccnmy', [0, 'a', 2, 'c', 'M', 'V', 'P', 'K', 'N', 9, 10, 'W', 'S', 'O', 'L', 'G', 'D', 17, 'I', 'H', 'T', 'Y', 22, 'B', 24, 'R', 26])\n",
      "(-9.763775122345692, 'a on ys olys ole had ladk hake few sawydt soradter ulrase cark plyge mrnccngy', [0, 'a', 2, 'c', 'M', 'V', 'P', 'O', 'N', 9, 10, 'W', 'S', 'Y', 'L', 'G', 'D', 17, 'I', 'H', 'T', 'K', 22, 'B', 24, 'R', 26])\n",
      "(-10.09452264704305, 'a or is onis one bag nagd bade jev savigl souagleu pnuase caud knife murccrfi', [0, 'a', 'N', 'c', 'W', 'V', 'O', 'M', 8, 'R', 'P', 'D', 'T', 'Y', 'S', 'G', 'K', 17, 'L', 'H', 20, 'I', 'B', 23, 24, 25, 26])\n",
      "(-10.448169121628894, 'a on ys olys ole had ladk hake few sawydi soradier ulrase cark glyte mrnccnty', [0, 'a', 2, 'c', 'M', 'V', 'P', 'D', 'N', 'T', 10, 'W', 'S', 'Y', 'L', 'G', 16, 17, 'I', 'H', 'O', 'K', 22, 'B', 24, 'R', 26])\n",
      "(-10.531043757678276, 'a on ys olys ole had ladk hake few sawydt soradter plrase cark blyge urnccngy', [0, 'a', 'D', 'c', 'M', 'V', 'P', 'O', 'N', 9, 10, 'W', 'S', 13, 'L', 'G', 'K', 17, 'I', 'H', 'T', 'Y', 22, 'B', 24, 'R', 26])\n",
      "(-11.113448265374245, 'a on ym olym ole gas last gate bev mavysk morasker flrame cart plyde urnccndy', [0, 'a', 'P', 'c', 'O', 'V', 'K', 'N', 8, 9, 10, 'T', 'S', 'H', 'L', 'G', 'D', 17, 'I', 'M', 'W', 'Y', 'B', 23, 24, 'R', 26])\n",
      "(-11.318122804205927, 'a on ys olys ole had ladk hake jef safydg soradger plrase cark mlyte urnccnty', [0, 'a', 2, 'c', 'M', 'V', 'B', 'T', 'N', 9, 'P', 'W', 'S', 'D', 'L', 'G', 'K', 17, 'I', 'H', 'O', 'Y', 22, 23, 24, 'R', 26])\n"
     ]
    }
   ],
   "source": [
    "for i in guesses1:\n",
    "  print(i)"
   ]
  },
  {
   "cell_type": "code",
   "execution_count": 63,
   "metadata": {},
   "outputs": [
    {
     "name": "stdout",
     "output_type": "stream",
     "text": [
      "(-9.365603612099108, 'a of rs ours oue burase jan uand jade soranger card sayrng mey purle trfccflr', [0, 'a', 'K', 'c', 'W', 'V', 'L', 'T', 8, 9, 'N', 11, 'O', 'P', 'M', 'G', 'D', 17, 'r', 'H', 'Y', 'S', 22, 23, 24, 'B', 26])\n",
      "(-9.468071847892247, 'a on rm ourm oue furame was uasy waye morasher cary madrsh bed purge trnccngr', [0, 'a', 'P', 'c', 'B', 'V', 'K', 'O', 'T', 9, 10, 11, 12, 'H', 'L', 'G', 'D', 17, 'r', 'M', 'Y', 'S', 22, 'N', 24, 'W', 26])\n",
      "(-9.933882219772613, 'a on rd ourd oue burade was uasy waye dorasker cary davrsk pev furge trnccngr', [0, 'a', 'K', 'c', 'H', 'V', 'D', 'O', 8, 9, 10, 'T', 12, 13, 'L', 'G', 'P', 17, 'r', 'M', 'Y', 'S', 'B', 'N', 24, 'W', 26])\n",
      "(-10.89360029514853, 'a of rs ours oue burase man uany maye soranger cary sadrng ped wurle trfccflr', [0, 'a', 'K', 'c', 'B', 'V', 'L', 'T', 8, 9, 10, 11, 'O', 'N', 'M', 'G', 'P', 17, 'r', 'H', 'Y', 'S', 22, 'D', 24, 'W', 26])\n",
      "(-10.89697819297362, 'a of rd ourd oue gurade man uany maye doranter cary dairnt zei purle jrfccflr', [0, 'a', 2, 'c', 'H', 'V', 'L', 'K', 8, 'B', 'Y', 11, 'O', 'N', 'M', 'G', 'D', 17, 'r', 19, 'T', 'S', 22, 23, 24, 'W', 'P'])\n",
      "(-11.63261891121067, 'a on rm ourm oue burame pay uays pase morayver cars madryv fed lurge trnccngr', [0, 'a', 'K', 'c', 'B', 'V', 'P', 'O', 8, 9, 10, 11, 'D', 'H', 'L', 'G', 'N', 17, 'r', 'W', 'Y', 'S', 'T', 23, 24, 'M', 26])\n",
      "(-11.96885586976714, 'a of rd ourd oue gurade was uasy waye dorasker cary danrsk men purle trfccflr', [0, 'a', 2, 'c', 'H', 'V', 'L', 'K', 8, 9, 10, 'T', 'O', 'P', 'B', 'G', 'D', 17, 'r', 'M', 'Y', 'S', 22, 'N', 24, 'W', 26])\n",
      "(-12.086064226239614, 'a on rd ourd oue furade was uasy waye dorasker cary davrsk lev burge trnccngr', [0, 'a', 'D', 'c', 'H', 'V', 'K', 'O', 8, 9, 10, 'T', 'P', 13, 'L', 'G', 16, 17, 'r', 'M', 'Y', 'S', 'B', 'N', 24, 'W', 26])\n",
      "(-13.270377056714324, 'a on rd ourd oue burade was uasy waye dorasker cary dalrsk fel purge trnccngr', [0, 'a', 'K', 'c', 'H', 'V', 'P', 'O', 8, 9, 10, 'T', 'B', 13, 'L', 'G', 'D', 17, 'r', 'M', 'Y', 'S', 22, 'N', 24, 'W', 26])\n",
      "(-13.273543682899117, 'a to rs turs tue furase man uand made stranger card sayrng key purle broccolr', [0, 'a', 'Y', 'c', 'W', 'V', 'K', 'T', 8, 9, 10, 'P', 'O', 'N', 'M', 'L', 'D', 17, 'r', 'H', 'G', 'S', 22, 23, 24, 'B', 26])\n"
     ]
    }
   ],
   "source": [
    "for i in guesses2:\n",
    "  print(i)"
   ]
  },
  {
   "cell_type": "code",
   "execution_count": 55,
   "metadata": {},
   "outputs": [],
   "source": [
    "guesses1 = DijkstraSearch(lstmB512,\"OZGGLK D ZWL EFTBL BQZOLB TU EFL CVE CLESLLR EFLM KTR'E DRELWYZGB MTV BLOTKRB SFZE XRTS DR ZGSZMB EFDRX\".upper())"
   ]
  },
  {
   "cell_type": "code",
   "execution_count": 54,
   "metadata": {},
   "outputs": [
    {
     "name": "stdout",
     "output_type": "stream",
     "text": [
      "[(-inf, 'a QH OD BGI IQH aBE UaY JGRBJ UGOBE UGWIQ aCUaFY PBGURBJ UQaIHNHW WHaERBJ ZaYIHWHE ZaNQRBH', [1, 2, 3, 4, 5, 6, 7, 8, 9, 10, 11, 12, 13, 14, 15, 16, 17, 18, 19, 20, 21, 22, 23, 24, 25]), (-26.931699752807617, 'j QH OD BGI IQH jBE UjY JGRBJ UGOBE UGWIQ jCUjFY PBGURBJ UQjIHNHW WHjERBJ ZjYIHWHE ZjNQRBH', [0, 1, 2, 3, 4, 5, 6, 7, 8, 10, 11, 12, 13, 14, 15, 16, 17, 18, 19, 20, 21, 22, 23, 24, 25]), (-24.422500610351562, 'g QH OD BGI IQH gBE UgY JGRBJ UGOBE UGWIQ gCUgFY PBGURBJ UQgIHNHW WHgERBJ ZgYIHWHE ZgNQRBH', [0, 1, 2, 3, 4, 5, 7, 8, 9, 10, 11, 12, 13, 14, 15, 16, 17, 18, 19, 20, 21, 22, 23, 24, 25]), (-22.69183349609375, 'z QH OD BGI IQH zBE UzY JGRBJ UGOBE UGWIQ zCUzFY PBGURBJ UQzIHNHW WHzERBJ ZzYIHWHE ZzNQRBH', [0, 1, 2, 3, 4, 5, 6, 7, 8, 9, 10, 11, 12, 13, 14, 15, 16, 17, 18, 19, 20, 21, 22, 23, 24]), (-20.68408966064453, 'm QH OD BGI IQH mBE UmY JGRBJ UGOBE UGWIQ mCUmFY PBGURBJ UQmIHNHW WHmERBJ ZmYIHWHE ZmNQRBH', [0, 1, 2, 3, 4, 5, 6, 7, 8, 9, 10, 11, 13, 14, 15, 16, 17, 18, 19, 20, 21, 22, 23, 24, 25]), (-19.306846618652344, 'w QH OD BGI IQH wBE UwY JGRBJ UGOBE UGWIQ wCUwFY PBGURBJ UQwIHNHW WHwERBJ ZwYIHWHE ZwNQRBH', [0, 1, 2, 3, 4, 5, 6, 7, 8, 9, 10, 11, 12, 13, 14, 15, 16, 17, 18, 19, 20, 21, 23, 24, 25]), (-17.387496948242188, 'v QH OD BGI IQH vBE UvY JGRBJ UGOBE UGWIQ vCUvFY PBGURBJ UQvIHNHW WHvERBJ ZvYIHWHE ZvNQRBH', [0, 1, 2, 3, 4, 5, 6, 7, 8, 9, 10, 11, 12, 13, 14, 15, 16, 17, 18, 19, 20, 22, 23, 24, 25]), (-17.22290802001953, 'f QH OD BGI IQH fBE UfY JGRBJ UGOBE UGWIQ fCUfFY PBGURBJ UQfIHNHW WHfERBJ ZfYIHWHE ZfNQRBH', [0, 1, 2, 3, 4, 6, 7, 8, 9, 10, 11, 12, 13, 14, 15, 16, 17, 18, 19, 20, 21, 22, 23, 24, 25]), (-16.727611541748047, 'k QH OD BGI IQH kBE UkY JGRBJ UGOBE UGWIQ kCUkFY PBGURBJ UQkIHNHW WHkERBJ ZkYIHWHE ZkNQRBH', [0, 1, 2, 3, 4, 5, 6, 7, 8, 9, 11, 12, 13, 14, 15, 16, 17, 18, 19, 20, 21, 22, 23, 24, 25]), (-14.886735916137695, 'q QH OD BGI IQH qBE UqY JGRBJ UGOBE UGWIQ qCUqFY PBGURBJ UQqIHNHW WHqERBJ ZqYIHWHE ZqNQRBH', [0, 1, 2, 3, 4, 5, 6, 7, 8, 9, 10, 11, 12, 13, 14, 15, 17, 18, 19, 20, 21, 22, 23, 24, 25]), (-14.872488021850586, 's QH OD BGI IQH sBE UsY JGRBJ UGOBE UGWIQ sCUsFY PBGURBJ UQsIHNHW WHsERBJ ZsYIHWHE ZsNQRBH', [0, 1, 2, 3, 4, 5, 6, 7, 8, 9, 10, 11, 12, 13, 14, 15, 16, 17, 19, 20, 21, 22, 23, 24, 25]), (-14.661469459533691, 'n QH OD BGI IQH nBE UnY JGRBJ UGOBE UGWIQ nCUnFY PBGURBJ UQnIHNHW WHnERBJ ZnYIHWHE ZnNQRBH', [0, 1, 2, 3, 4, 5, 6, 7, 8, 9, 10, 11, 12, 14, 15, 16, 17, 18, 19, 20, 21, 22, 23, 24, 25]), (-14.326529502868652, 'x QH OD BGI IQH xBE UxY JGRBJ UGOBE UGWIQ xCUxFY PBGURBJ UQxIHNHW WHxERBJ ZxYIHWHE ZxNQRBH', [0, 1, 2, 3, 4, 5, 6, 7, 8, 9, 10, 11, 12, 13, 14, 15, 16, 17, 18, 19, 20, 21, 22, 24, 25]), (-13.811912536621094, 'p QH OD BGI IQH pBE UpY JGRBJ UGOBE UGWIQ pCUpFY PBGURBJ UQpIHNHW WHpERBJ ZpYIHWHE ZpNQRBH', [0, 1, 2, 3, 4, 5, 6, 7, 8, 9, 10, 11, 12, 13, 14, 16, 17, 18, 19, 20, 21, 22, 23, 24, 25]), (-13.63022232055664, 'y QH OD BGI IQH yBE UyY JGRBJ UGOBE UGWIQ yCUyFY PBGURBJ UQyIHNHW WHyERBJ ZyYIHWHE ZyNQRBH', [0, 1, 2, 3, 4, 5, 6, 7, 8, 9, 10, 11, 12, 13, 14, 15, 16, 17, 18, 19, 20, 21, 22, 23, 25]), (-13.313307762145996, 'd QH OD BGI IQH dBE UdY JGRBJ UGOBE UGWIQ dCUdFY PBGURBJ UQdIHNHW WHdERBJ ZdYIHWHE ZdNQRBH', [0, 1, 2, 4, 5, 6, 7, 8, 9, 10, 11, 12, 13, 14, 15, 16, 17, 18, 19, 20, 21, 22, 23, 24, 25]), (-12.109468460083008, 'b QH OD BGI IQH bBE UbY JGRBJ UGOBE UGWIQ bCUbFY PBGURBJ UQbIHNHW WHbERBJ ZbYIHWHE ZbNQRBH', [0, 2, 3, 4, 5, 6, 7, 8, 9, 10, 11, 12, 13, 14, 15, 16, 17, 18, 19, 20, 21, 22, 23, 24, 25]), (-11.1614408493042, 'l QH OD BGI IQH lBE UlY JGRBJ UGOBE UGWIQ lCUlFY PBGURBJ UQlIHNHW WHlERBJ ZlYIHWHE ZlNQRBH', [0, 1, 2, 3, 4, 5, 6, 7, 8, 9, 10, 12, 13, 14, 15, 16, 17, 18, 19, 20, 21, 22, 23, 24, 25]), (-8.612865447998047, 'c QH OD BGI IQH cBE UcY JGRBJ UGOBE UGWIQ cCUcFY PBGURBJ UQcIHNHW WHcERBJ ZcYIHWHE ZcNQRBH', [0, 1, 3, 4, 5, 6, 7, 8, 9, 10, 11, 12, 13, 14, 15, 16, 17, 18, 19, 20, 21, 22, 23, 24, 25]), (-8.23288345336914, 'h QH OD BGI IQH hBE UhY JGRBJ UGOBE UGWIQ hCUhFY PBGURBJ UQhIHNHW WHhERBJ ZhYIHWHE ZhNQRBH', [0, 1, 2, 3, 4, 5, 6, 8, 9, 10, 11, 12, 13, 14, 15, 16, 17, 18, 19, 20, 21, 22, 23, 24, 25]), (-8.187437057495117, 'e QH OD BGI IQH eBE UeY JGRBJ UGOBE UGWIQ eCUeFY PBGURBJ UQeIHNHW WHeERBJ ZeYIHWHE ZeNQRBH', [0, 1, 2, 3, 5, 6, 7, 8, 9, 10, 11, 12, 13, 14, 15, 16, 17, 18, 19, 20, 21, 22, 23, 24, 25]), (-7.724085330963135, 'u QH OD BGI IQH uBE UuY JGRBJ UGOBE UGWIQ uCUuFY PBGURBJ UQuIHNHW WHuERBJ ZuYIHWHE ZuNQRBH', [0, 1, 2, 3, 4, 5, 6, 7, 8, 9, 10, 11, 12, 13, 14, 15, 16, 17, 18, 19, 21, 22, 23, 24, 25]), (-4.6147918701171875, 'o QH OD BGI IQH oBE UoY JGRBJ UGOBE UGWIQ oCUoFY PBGURBJ UQoIHNHW WHoERBJ ZoYIHWHE ZoNQRBH', [0, 1, 2, 3, 4, 5, 6, 7, 8, 9, 10, 11, 12, 13, 15, 16, 17, 18, 19, 20, 21, 22, 23, 24, 25]), (-4.186049938201904, 't QH OD BGI IQH tBE UtY JGRBJ UGOBE UGWIQ tCUtFY PBGURBJ UQtIHNHW WHtERBJ ZtYIHWHE ZtNQRBH', [0, 1, 2, 3, 4, 5, 6, 7, 8, 9, 10, 11, 12, 13, 14, 15, 16, 17, 18, 20, 21, 22, 23, 24, 25]), (-2.066971778869629, 'i QH OD BGI IQH iBE UiY JGRBJ UGOBE UGWIQ iCUiFY PBGURBJ UQiIHNHW WHiERBJ ZiYIHWHE ZiNQRBH', [0, 1, 2, 3, 4, 5, 6, 7, 9, 10, 11, 12, 13, 14, 15, 16, 17, 18, 19, 20, 21, 22, 23, 24, 25]), (-0.6204615235328674, 'r QH OD BGI IQH rBE UrY JGRBJ UGOBE UGWIQ rCUrFY PBGURBJ UQrIHNHW WHrERBJ ZrYIHWHE ZrNQRBH', [0, 1, 2, 3, 4, 5, 6, 7, 8, 9, 10, 11, 12, 13, 14, 15, 16, 18, 19, 20, 21, 22, 23, 24, 25])]\n"
     ]
    }
   ],
   "source": [
    "print(guesses1)"
   ]
  },
  {
   "cell_type": "code",
   "execution_count": 59,
   "metadata": {},
   "outputs": [],
   "source": [
    "guesses1 = DijkstraSearch(lstmB512,\"OZGGLd D ZWL tFoBL BQZOLB oU tFL CVt CLtSLLn tFLM don't DntLWYZGB MTV BLOondB SFZt XRTS Dn ZGSZMB tFDnX\".upper(),guesses=10)"
   ]
  },
  {
   "cell_type": "code",
   "execution_count": 57,
   "metadata": {},
   "outputs": [],
   "source": [
    "guesses2 = DijkstraSearch(lstm,\"Rckdlvpycd hl lzcssf kym xkm ke legnn kym whmci okzcl.\".upper(),guesses=10)"
   ]
  },
  {
   "cell_type": "code",
   "execution_count": 61,
   "metadata": {},
   "outputs": [
    {
     "name": "stdout",
     "output_type": "stream",
     "text": [
      "(-10.422286864461057, 'an he way afy enujj table chyld eblook plasemifls', [0, 'K', 'Z', 'W', 'I', 'L', 'Y', 7, 'H', 'P', 'N', 'F', 'C', 'V', 'E', 'S', 'R', 17, 18, 'D', 'O', 'G', 22, 'X', 24, 'M', 26])\n",
      "(-10.580895469627535, 'an go bad aud onfll jawro sgdry owrtth pracomvurc', [0, 'K', 'X', 'D', 'M', 5, 'G', 'H', 'F', 9, 'O', 11, 'N', 'V', 'E', 'L', 'R', 17, 'C', 'W', 'S', 'Y', 'P', 'Z', 24, 'I', 26])\n",
      "(-10.665233287870933, 'an be day auy engff valce mbych elcook scaterjuct', [0, 'K', 'H', 'C', 'X', 'L', 'N', 'G', 'I', 9, 'P', 'F', 'Z', 'W', 'E', 'S', 16, 17, 'V', 'R', 'D', 'Y', 'O', 23, 24, 'M', 26])\n",
      "(-11.623814258635093, 'an be day auy engff valce mbych elcook scaperjucp', [0, 'K', 'H', 'C', 'X', 'L', 'N', 'G', 'I', 9, 'P', 'F', 'Z', 'W', 'E', 'S', 't', 17, 'V', 'R', 'D', 'Y', 'O', 23, 24, 'M', 26])\n",
      "(-11.633957323927461, 'an he way afy enujj gable chyld eblook plasemifls', [0, 'K', 'Z', 'W', 'I', 'L', 'Y', 'O', 'H', 'P', 'N', 'F', 'C', 'V', 'E', 'S', 'R', 17, 18, 'D', 20, 'G', 22, 'X', 24, 'M', 26])\n",
      "(-11.688298811319783, 'or it jok onk truff powet miked twelly geostchnes', [0, 1, 2, 'V', 'I', 'C', 'N', 'R', 'P', 'H', 'X', 'M', 'S', 'W', 'Y', 'K', 'O', 17, 'E', 'D', 'L', 'G', 22, 'Z', 24, 'F', 26])\n",
      "(-11.974223647177269, 'an be day auy engff valce mbych elcook scaterquct', [0, 'K', 'H', 'C', 'X', 'L', 'N', 'G', 'I', 9, 10, 'F', 'Z', 'W', 'E', 'S', 16, 'P', 'V', 'R', 'D', 'Y', 'O', 23, 24, 'M', 26])\n",
      "(-12.148165444272252, 'an go bad aud onfll jawro sgdry owrzze pracomvurc', [0, 'K', 'X', 'D', 'M', 'F', 'G', 'H', 8, 9, 'O', 11, 'N', 'V', 'E', 'L', 'R', 17, 'C', 'W', 20, 'Y', 'P', 'Z', 24, 'I', 'S'])\n",
      "(-12.72160385621828, 'an be may aly endoo vague fbyut egupph quacersluc', [0, 'K', 'H', 'D', 'G', 'L', 'W', 'Z', 'F', 9, 10, 11, 'Y', 'X', 'E', 'N', 'S', 'R', 'V', 'P', 'I', 'C', 'O', 23, 24, 'M', 26])\n",
      "(-12.850236450749435, 'or it fok ock truzz jowet piked twelly geostbxces', [0, 1, 'V', 'Y', 'I', 'C', 'X', 'R', 8, 'H', 'O', 'M', 'S', 13, 14, 'K', 'W', 17, 'E', 'D', 'L', 'G', 22, 'Z', 'P', 'F', 'N'])\n"
     ]
    }
   ],
   "source": [
    "for i in guesses2:\n",
    "  print(i)"
   ]
  }
 ],
 "metadata": {
  "kernelspec": {
   "display_name": "CAP4641-py310",
   "language": "python",
   "name": "python3"
  },
  "language_info": {
   "codemirror_mode": {
    "name": "ipython",
    "version": 3
   },
   "file_extension": ".py",
   "mimetype": "text/x-python",
   "name": "python",
   "nbconvert_exporter": "python",
   "pygments_lexer": "ipython3",
   "version": "3.9.18"
  }
 },
 "nbformat": 4,
 "nbformat_minor": 2
}
